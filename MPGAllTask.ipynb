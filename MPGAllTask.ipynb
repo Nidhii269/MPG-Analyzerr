{
  "nbformat": 4,
  "nbformat_minor": 0,
  "metadata": {
    "colab": {
      "provenance": [],
      "authorship_tag": "ABX9TyNPT86wI1d3puXfvHHcEtQd",
      "include_colab_link": true
    },
    "kernelspec": {
      "name": "python3",
      "display_name": "Python 3"
    },
    "language_info": {
      "name": "python"
    }
  },
  "cells": [
    {
      "cell_type": "markdown",
      "metadata": {
        "id": "view-in-github",
        "colab_type": "text"
      },
      "source": [
        "<a href=\"https://colab.research.google.com/github/Nidhii269/MPG-Analyzerr/blob/main/MPGAllTask.ipynb\" target=\"_parent\"><img src=\"https://colab.research.google.com/assets/colab-badge.svg\" alt=\"Open In Colab\"/></a>"
      ]
    },
    {
      "cell_type": "code",
      "source": [
        "import pandas as pd # Read the .csv file directly into a pandas DataFrame\n",
        "car_data = pd.read_csv('/content/cars.csv',skiprows=[1] ,delimiter=';')"
      ],
      "metadata": {
        "id": "MszZwz3lS2et"
      },
      "execution_count": 2,
      "outputs": []
    },
    {
      "cell_type": "code",
      "source": [
        "# Print the column names\n",
        "column_names = car_data.columns.tolist()\n",
        "print(\"Column Names:\")\n",
        "print(column_names)"
      ],
      "metadata": {
        "colab": {
          "base_uri": "https://localhost:8080/"
        },
        "id": "e53-CxxLXIzl",
        "outputId": "8f5e4627-4d40-4e8d-95db-54a43f899efe"
      },
      "execution_count": 3,
      "outputs": [
        {
          "output_type": "stream",
          "name": "stdout",
          "text": [
            "Column Names:\n",
            "['Car', 'MPG', 'Cylinders', 'Displacement', 'Horsepower', 'Weight', 'Acceleration', 'Model', 'Origin']\n"
          ]
        }
      ]
    },
    {
      "cell_type": "code",
      "source": [
        "# Find the car with the highest MPG\n",
        "highest_mpg_car = car_data.loc[car_data['MPG'].idxmax()]\n",
        "print(\"\\nCar with the highest MPG:\")\n",
        "print(highest_mpg_car)"
      ],
      "metadata": {
        "colab": {
          "base_uri": "https://localhost:8080/"
        },
        "id": "fnorfKZ0JHaz",
        "outputId": "33652061-201a-448b-cfd3-ce663d86d87e"
      },
      "execution_count": 4,
      "outputs": [
        {
          "output_type": "stream",
          "name": "stdout",
          "text": [
            "\n",
            "Car with the highest MPG:\n",
            "Car             Mazda GLC\n",
            "MPG                  46.6\n",
            "Cylinders               4\n",
            "Displacement         86.0\n",
            "Horsepower           65.0\n",
            "Weight             2110.0\n",
            "Acceleration         17.9\n",
            "Model                  80\n",
            "Origin              Japan\n",
            "Name: 329, dtype: object\n"
          ]
        }
      ]
    },
    {
      "cell_type": "code",
      "source": [],
      "metadata": {
        "id": "m_ZT0dL2JQV2"
      },
      "execution_count": null,
      "outputs": []
    }
  ]
}