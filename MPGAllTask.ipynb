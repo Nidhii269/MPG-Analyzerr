{
  "nbformat": 4,
  "nbformat_minor": 0,
  "metadata": {
    "colab": {
      "provenance": [],
      "authorship_tag": "ABX9TyPbxmI05xhaQ5/SBDa1F356",
      "include_colab_link": true
    },
    "kernelspec": {
      "name": "python3",
      "display_name": "Python 3"
    },
    "language_info": {
      "name": "python"
    }
  },
  "cells": [
    {
      "cell_type": "markdown",
      "metadata": {
        "id": "view-in-github",
        "colab_type": "text"
      },
      "source": [
        "<a href=\"https://colab.research.google.com/github/Nidhii269/MPG-Analyzerr/blob/main/MPGAllTask.ipynb\" target=\"_parent\"><img src=\"https://colab.research.google.com/assets/colab-badge.svg\" alt=\"Open In Colab\"/></a>"
      ]
    },
    {
      "cell_type": "code",
      "source": [
        "import pandas as pd # Read the .csv file directly into a pandas DataFrame\n",
        "car_data = pd.read_csv('/content/cars.csv',skiprows=[1] ,delimiter=';')"
      ],
      "metadata": {
        "id": "MszZwz3lS2et"
      },
      "execution_count": 2,
      "outputs": []
    },
    {
      "cell_type": "code",
      "source": [
        "# Print the column names\n",
        "column_names = car_data.columns.tolist()\n",
        "print(\"Column Names:\")\n",
        "print(column_names)"
      ],
      "metadata": {
        "colab": {
          "base_uri": "https://localhost:8080/"
        },
        "id": "e53-CxxLXIzl",
        "outputId": "8f5e4627-4d40-4e8d-95db-54a43f899efe"
      },
      "execution_count": 3,
      "outputs": [
        {
          "output_type": "stream",
          "name": "stdout",
          "text": [
            "Column Names:\n",
            "['Car', 'MPG', 'Cylinders', 'Displacement', 'Horsepower', 'Weight', 'Acceleration', 'Model', 'Origin']\n"
          ]
        }
      ]
    },
    {
      "cell_type": "code",
      "source": [
        "# Find the car with the highest MPG\n",
        "highest_mpg_car = car_data.loc[car_data['MPG'].idxmax()]\n",
        "print(\"\\nCar with the highest MPG:\")\n",
        "print(highest_mpg_car)"
      ],
      "metadata": {
        "colab": {
          "base_uri": "https://localhost:8080/"
        },
        "id": "fnorfKZ0JHaz",
        "outputId": "33652061-201a-448b-cfd3-ce663d86d87e"
      },
      "execution_count": 4,
      "outputs": [
        {
          "output_type": "stream",
          "name": "stdout",
          "text": [
            "\n",
            "Car with the highest MPG:\n",
            "Car             Mazda GLC\n",
            "MPG                  46.6\n",
            "Cylinders               4\n",
            "Displacement         86.0\n",
            "Horsepower           65.0\n",
            "Weight             2110.0\n",
            "Acceleration         17.9\n",
            "Model                  80\n",
            "Origin              Japan\n",
            "Name: 329, dtype: object\n"
          ]
        }
      ]
    },
    {
      "cell_type": "code",
      "source": [
        "\n",
        "# Find the car with the lowest MPG\n",
        "lowest_mpg_car = car_data.loc[car_data['MPG'].idxmin()]\n",
        "print(\"\\nCar with the lowest MPG:\")\n",
        "print(lowest_mpg_car)"
      ],
      "metadata": {
        "colab": {
          "base_uri": "https://localhost:8080/"
        },
        "id": "m_ZT0dL2JQV2",
        "outputId": "54610b8a-2d3e-422b-d66e-8e9f459f56df"
      },
      "execution_count": 5,
      "outputs": [
        {
          "output_type": "stream",
          "name": "stdout",
          "text": [
            "\n",
            "Car with the lowest MPG:\n",
            "Car             Citroen DS-21 Pallas\n",
            "MPG                              0.0\n",
            "Cylinders                          4\n",
            "Displacement                   133.0\n",
            "Horsepower                     115.0\n",
            "Weight                        3090.0\n",
            "Acceleration                    17.5\n",
            "Model                             70\n",
            "Origin                        Europe\n",
            "Name: 10, dtype: object\n"
          ]
        }
      ]
    },
    {
      "cell_type": "code",
      "source": [
        "# Find the average MPG of all cars\n",
        "average_mpg = car_data['MPG'].mean()\n",
        "print(\"\\nAverage MPG of all cars:\", average_mpg)"
      ],
      "metadata": {
        "colab": {
          "base_uri": "https://localhost:8080/"
        },
        "id": "PCzfN9jdJWC8",
        "outputId": "f7f1efd3-37f7-4d2c-e440-cc58dea4a272"
      },
      "execution_count": 6,
      "outputs": [
        {
          "output_type": "stream",
          "name": "stdout",
          "text": [
            "\n",
            "Average MPG of all cars: 23.051231527093595\n"
          ]
        }
      ]
    },
    {
      "cell_type": "code",
      "source": [
        "# Find the most common MPG\n",
        "most_common_mpg = car_data['MPG'].mode().values[0]\n",
        "print(\"\\nMost common MPG:\", most_common_mpg)"
      ],
      "metadata": {
        "colab": {
          "base_uri": "https://localhost:8080/"
        },
        "id": "NsISYQdLJdh0",
        "outputId": "9aefa35d-8ce1-4688-b058-4e6fbb0db4c7"
      },
      "execution_count": 7,
      "outputs": [
        {
          "output_type": "stream",
          "name": "stdout",
          "text": [
            "\n",
            "Most common MPG: 13.0\n"
          ]
        }
      ]
    },
    {
      "cell_type": "code",
      "source": [],
      "metadata": {
        "id": "g8dI7z76JjWk"
      },
      "execution_count": null,
      "outputs": []
    }
  ]
}